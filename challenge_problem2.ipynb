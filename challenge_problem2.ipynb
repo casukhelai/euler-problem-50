{
 "cells": [
  {
   "cell_type": "code",
   "execution_count": 1,
   "id": "4b095633",
   "metadata": {},
   "outputs": [
    {
     "ename": "NameError",
     "evalue": "name 'largest' is not defined",
     "output_type": "error",
     "traceback": [
      "\u001b[1;31m---------------------------------------------------------------------------\u001b[0m",
      "\u001b[1;31mNameError\u001b[0m                                 Traceback (most recent call last)",
      "\u001b[1;32m<ipython-input-1-cd73433c3907>\u001b[0m in \u001b[0;36m<module>\u001b[1;34m\u001b[0m\n\u001b[0;32m     53\u001b[0m \u001b[1;33m\u001b[0m\u001b[0m\n\u001b[0;32m     54\u001b[0m \u001b[1;31m# print solution\u001b[0m\u001b[1;33m\u001b[0m\u001b[1;33m\u001b[0m\u001b[1;33m\u001b[0m\u001b[0m\n\u001b[1;32m---> 55\u001b[1;33m \u001b[0mprint\u001b[0m \u001b[1;33m(\u001b[0m\u001b[0mlargest\u001b[0m\u001b[1;33m)\u001b[0m\u001b[1;33m\u001b[0m\u001b[1;33m\u001b[0m\u001b[0m\n\u001b[0m\u001b[0;32m     56\u001b[0m \u001b[1;33m\u001b[0m\u001b[0m\n",
      "\u001b[1;31mNameError\u001b[0m: name 'largest' is not defined"
     ]
    }
   ],
   "source": [
    "# First define what numbers are a prime....need a sieve to throw out factors of 2 (except for two)\n",
    "## Using this reference as a starting point: https://www.geeksforgeeks.org/python-program-for-sieve-of-eratosthenes/\n",
    "\n",
    "# a function to filter out prime numbers from composite\n",
    "def isPrime(n):\n",
    "    if n<=1: \n",
    "        return False\n",
    "    if n<=3:\n",
    "        return True\n",
    "    # filter out even values or other multiples of three\n",
    "    if n%2==0 or n%3==0:\n",
    "        return False\n",
    "    # check for prime numbers with sqrt since singular divisor for a number is sqrt\n",
    "    a=int(n**0.5)\n",
    "    # start at next prime number 5\n",
    "    b=5\n",
    "    # while b is less than the sqrt(n)\n",
    "    # iterate on 1000000 modulous b or b+2 -> return \"falso\"\n",
    "    # once finished, add 6 to b,\n",
    "    while b<=a:\n",
    "        #if mod n of b is zero or \n",
    "        if n%b==0 or n%(b+2):\n",
    "            return False\n",
    "        # this will take us to the next possible prime\n",
    "        b+=6\n",
    "        return True\n",
    "            \n",
    "\n"
   ]
  },
  {
   "cell_type": "code",
   "execution_count": 4,
   "id": "67a48820",
   "metadata": {},
   "outputs": [],
   "source": [
    "## Create sieve to start looking through the true values\n",
    "def sieve(n):\n",
    "    # want to specify we're looking at ONLY the true values for the sieve  \n",
    "    sieve = [True]*int(n//2)\n",
    "    ## look for numbers between 3 to sqrt(n) in increments of 2, as per Sieve of Eratosthenes\n",
    "    for i in range(3,int(n**0.5)+1,2):\n",
    "        # when we look at s at the i/2 index (same as specified above)\n",
    "        # if statement to validate where the index sieve is at\n",
    "            # filter for the non prime numbers. ie splice at i\n",
    "            # narrow the range to i//2 now,  \n",
    "        # return the appropriate values that satisfy the above conditions"
   ]
  },
  {
   "cell_type": "code",
   "execution_count": null,
   "id": "5439f8e6",
   "metadata": {},
   "outputs": [],
   "source": [
    "### summations\n",
    "\n",
    "N = 1000000\n",
    "\n",
    "# initiate the sum\n",
    "primeSum = [0]\n",
    "\n",
    "# loop through sieve function to append to the prime sum list\n",
    "    # since consecutive prime sum doesn't necessarily mean starting right at 2, there might have to be another place we have to start from\n",
    "    # max_prime will be found by itrating over \n",
    "\n",
    "# print solution\n",
    "print (largest)\n",
    "            "
   ]
  }
 ],
 "metadata": {
  "kernelspec": {
   "display_name": "Python 3",
   "language": "python",
   "name": "python3"
  },
  "language_info": {
   "codemirror_mode": {
    "name": "ipython",
    "version": 3
   },
   "file_extension": ".py",
   "mimetype": "text/x-python",
   "name": "python",
   "nbconvert_exporter": "python",
   "pygments_lexer": "ipython3",
   "version": "3.8.8"
  }
 },
 "nbformat": 4,
 "nbformat_minor": 5
}
